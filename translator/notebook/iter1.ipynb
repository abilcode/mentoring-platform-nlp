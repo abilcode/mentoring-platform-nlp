{
 "cells": [
  {
   "cell_type": "code",
   "execution_count": 71,
   "metadata": {},
   "outputs": [],
   "source": [
    "from googletrans import Translator\n",
    "import pandas as pd"
   ]
  },
  {
   "cell_type": "code",
   "execution_count": 72,
   "metadata": {},
   "outputs": [],
   "source": [
    "text1 = \"Hi guys\"\n",
    "text2 = \"Halo semua\"\n",
    "translator = Translator()"
   ]
  },
  {
   "cell_type": "code",
   "execution_count": 73,
   "metadata": {},
   "outputs": [
    {
     "data": {
      "text/plain": [
       "'Hai kawan'"
      ]
     },
     "execution_count": 73,
     "metadata": {},
     "output_type": "execute_result"
    }
   ],
   "source": [
    "translator.translate(text1,dest='id').src\n",
    "translator.translate(text1,dest='id').dest\n",
    "translator.translate(text1,dest='id').text"
   ]
  },
  {
   "cell_type": "code",
   "execution_count": 91,
   "metadata": {},
   "outputs": [],
   "source": [
    "def to_translate(data,dest='en'):\n",
    "    data_set = data.copy()\n",
    "    translated  = []\n",
    "    lang_input  = []\n",
    "    lang_output = []\n",
    "\n",
    "    for item in data_set['input'] :\n",
    "        translations = translator.translate(item, dest=dest)\n",
    "        translated.append(translations.text)\n",
    "        lang_input.append(translations.src)\n",
    "        lang_output.append(translations.dest)\n",
    "        \n",
    "    data_set['lang_input'] = lang_input\n",
    "    data_set['translated'] = translated\n",
    "    data_set['lang_output']= lang_output\n",
    "\n",
    "    \n",
    "    return data_set"
   ]
  },
  {
   "cell_type": "code",
   "execution_count": 86,
   "metadata": {},
   "outputs": [],
   "source": [
    "data_ind  = {\n",
    "    \"input\":[\"Suka banget sama iltnya\",\"Halo apakabar\", \"Baik, bagaimana dengan kamu\", \"Hello Im fine\", \"I suka banget iltnya\", \"Menurut saya sesi ini sangat interesting\",\"the way the instructor jelasin itu ga banget\"]\n",
    "}\n",
    "\n",
    "data_en  = {\n",
    "    \"input\":[\"I love the ILT session\",\"this is seriously good\", \"Hello Im fine\", \"I suka banget iltnya\", \"for me this sesi ini is very interesting\", \"Menurut saya sesi ini sangat interesting\",\"the way the instructor jelasin itu ga banget\"]\n",
    "}"
   ]
  },
  {
   "cell_type": "code",
   "execution_count": 92,
   "metadata": {},
   "outputs": [
    {
     "data": {
      "text/plain": [
       "{'input': ['Suka banget sama iltnya',\n",
       "  'Halo apakabar',\n",
       "  'Baik, bagaimana dengan kamu',\n",
       "  'Hello Im fine',\n",
       "  'I suka banget iltnya',\n",
       "  'Menurut saya sesi ini sangat interesting',\n",
       "  'the way the instructor jelasin itu ga banget'],\n",
       " 'lang_input': ['id', 'id', 'id', 'en', 'id', 'ms', 'id'],\n",
       " 'translated': ['Really like the ilt',\n",
       "  'Hello, how are you',\n",
       "  'Good, how about you',\n",
       "  'Hello Im fine',\n",
       "  'I really like the ilt',\n",
       "  'I think this session is very interesting',\n",
       "  \"The way the instructor explained it wasn't really\"],\n",
       " 'lang_output': ['en', 'en', 'en', 'en', 'en', 'en', 'en']}"
      ]
     },
     "execution_count": 92,
     "metadata": {},
     "output_type": "execute_result"
    }
   ],
   "source": [
    "data_pd = to_translate(data_ind)\n",
    "data_pd"
   ]
  },
  {
   "cell_type": "code",
   "execution_count": 93,
   "metadata": {},
   "outputs": [
    {
     "data": {
      "text/plain": [
       "{'input': ['I love the ILT session',\n",
       "  'this is seriously good',\n",
       "  'Hello Im fine',\n",
       "  'I suka banget iltnya',\n",
       "  'for me this sesi ini is very interesting',\n",
       "  'Menurut saya sesi ini sangat interesting',\n",
       "  'the way the instructor jelasin itu ga banget'],\n",
       " 'lang_input': ['en', 'en', 'en', 'id', 'en', 'ms', 'id'],\n",
       " 'translated': ['Saya suka sesi ILT',\n",
       "  'Ini benar -benar bagus',\n",
       "  'Halo saya baik-baik saja',\n",
       "  'I suka banget iltnya',\n",
       "  'Bagi saya ini sesi ini sangat menarik',\n",
       "  'Saya pikir sesi ini sangat menarik',\n",
       "  'the way the instructor jelasin itu ga banget'],\n",
       " 'lang_output': ['id', 'id', 'id', 'id', 'id', 'id', 'id']}"
      ]
     },
     "execution_count": 93,
     "metadata": {},
     "output_type": "execute_result"
    }
   ],
   "source": [
    "data_pd = to_translate(data_en,dest='id')\n",
    "data_pd"
   ]
  },
  {
   "cell_type": "code",
   "execution_count": 103,
   "metadata": {},
   "outputs": [
    {
     "name": "stdout",
     "output_type": "stream",
     "text": [
      "<class 'str'>\n",
      "hai\n"
     ]
    }
   ],
   "source": [
    "a = 'hai'\n",
    "print(type(a))\n",
    "if isinstance(a, str):\n",
    "    print((a))"
   ]
  }
 ],
 "metadata": {
  "kernelspec": {
   "display_name": "base",
   "language": "python",
   "name": "python3"
  },
  "language_info": {
   "codemirror_mode": {
    "name": "ipython",
    "version": 3
   },
   "file_extension": ".py",
   "mimetype": "text/x-python",
   "name": "python",
   "nbconvert_exporter": "python",
   "pygments_lexer": "ipython3",
   "version": "3.9.7"
  },
  "orig_nbformat": 4
 },
 "nbformat": 4,
 "nbformat_minor": 2
}
